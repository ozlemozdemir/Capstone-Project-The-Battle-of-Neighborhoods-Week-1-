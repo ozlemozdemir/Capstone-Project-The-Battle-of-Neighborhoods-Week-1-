{
    "nbformat_minor": 1, 
    "cells": [
        {
            "execution_count": 1, 
            "cell_type": "code", 
            "metadata": {}, 
            "outputs": [], 
            "source": "import pandas as pd"
        }, 
        {
            "source": "# Peer-graded Assignment: Capstone Project - The Battle of Neighborhoods (Week 1)", 
            "cell_type": "markdown", 
            "metadata": {}
        }, 
        {
            "source": "## Introduction/Business Problem", 
            "cell_type": "markdown", 
            "metadata": {}
        }, 
        {
            "source": "Starting a business will be hard. It can be extremely rewarding, but first it will be hard.\n\nThe only way you will be able to push through, and make your new business successful through all the hard parts and long hours, is if you are passionate about what you are doing. Follow your dreams and use your knowledge. Your passion and knowledge are the best places to start in choosing your new business.\n\nThe most common serious mistake made by entrepreneurs is not choosing the right business from the very beginning. This session will provide you with important evaluation techniques to decide which business is right for you.\n\n##### Decide if you really want to be in business:\n\nYou are putting some (not all, hopefully) of your net worth at risk. You may run the risk of becoming eccentric, meaning creating a life that is out of balance, with working hours taking away from other family or pleasurable activities. There may be levels of stress you have not experienced as an employee.\n\n##### Decide what business and where:\n\nOnce you are satisfied you have the characteristics of a successful entrepreneur and that you definitely want to be in business, then you must decide which business is best for you and where to locate that business. ", 
            "cell_type": "markdown", 
            "metadata": {}
        }, 
        {
            "source": "A poor location or a poorly negotiated lease can cripple a wonderful business. Every business has its own location criteria. In this session, you will define your criteria, learn how to select the right location, create a site model, and recognize the important aspects of a lease agreement.\n\nWhether you are a moonlight or full-time entrepreneur, at some time real estate issues will become important to you. The success or failure of most retail businesses will hinge on the owner's selectivity and judgment in selecting the right location.\n\nAn initial step in business is selecting where you will live and where your business will be located. You may have the opportunity to relocate to an area where you would really enjoy living and working.\n\nIf you are planning to become a franchisor of your business, successful real estate development and precise location criteria for your franchised locations will become key factors in your success. See our Session 10 Franchising Your Business in the Business Expansion course.\n\n##### Zoning Categories\n\nEvery city has a planning department at City Hall. You will be dealing with this and other municipal departments and agencies that have discretionary authority to approve or disapprove your intended plans.\n\nYou can no longer rely on zoning codes to determine what the rules are in your desired location. Your intended location will often be subject to \"precise plan\" approval, an environmental impact assessment, and other regulatory issues.\n\nYou may find yourself appearing before a review board that can often seem unreasonable in its decisions. Many cities have redevelopment agencies authorized to impose conditions even more stringent than those established by local codes.\n\nOne shopping center developer was so frustrated with the demands of city agencies that he finally threw up his hands and sold off his rights to the property. The new owner succeeded in developing the property. His secret, \"I went to City Hall and told them that I would do anything they wanted me to do-----and did it.\"\n\nNow, obviously, there will be times when unreasonable conditions will make a location for your business unattractive. In such cases, you should unemotionally look for another location.\n\n\n##### Criteria for a Manufacturing, Warehousing, or Industrial Business\n\nRoom for future expansion\nConvenient for employees\nGood Accessibility\nAvailable labor force\nAppropriate utilities\nConvenient to freight and express delivery systems\nCriteria for a Retail Business\n\nEach retail and commercial business has its own criteria. For example, a donut shop should be located on the \"going-to-work\" side of the street. On the other hand, a liquor store should be on the side of the street with traffic going home from work.\n\nThe selection of your first location will have an overwhelming impact on your chances of success.\n\nIn Session 1 Deciding on a Business, you analyzed businesses that are similar to the one you chose. Did you analyze where they were located and why?\n\nSelect the appropriate type of center (mall, strip, mini). Some businesses do best in a large center but some, like Mini-Marts, video stores, and laundromats, do better in much smaller centers. Others such as florist, nursery or antique stores, do well located on the street front.\nDemographic data will provide you information about the neighborhood. It will inform you about the population, the number of households, estimated population by race, age, and income level within a one, two or five-mile radius. You can find firms that supply this information on the Internet.\nWalk and talk the area. You will be surprised how much you can learn by talking to customers, employees and owners.\nTraffic count is very important because it will give you the number of cars at the intersection. You can also get the pedestrian count, which is great for drop-in or walk-in business. This report can be obtained from the local traffic department.\nVisibility and signage: Customers must know you are there. They should be able to see your store. Usually, the end or corner location is better, which is why the rent for those spaces is higher. Get the biggest sign you can. Tell the public clearly what you are selling. Examples: Travel, Gifts, Pets, tell the products. Both your lease and the city ordinances will have limitations regarding your signs.\nAccess and parking: Be sure you have adequate and convenient parking. Avoid streets with dividers or one-way traffic. Customers prefer stores where the parking is in the front.\nProximity to the competition: Know where your competitors are located. You can get the names and address from an internet search. Find out what your competition is doing and how they are doing it.\nGenerators (anchors): These are the big national stores in a mall or shopping center. For example, Albertson's, Nordstrom, Walmart and/or McDonald's will help to bring customers into the center. The closer your business can be to generators, the better it usually is for your business.\nSearching for a Property\n\n", 
            "cell_type": "markdown", 
            "metadata": {}
        }, 
        {
            "source": "", 
            "cell_type": "markdown", 
            "metadata": {}
        }
    ], 
    "metadata": {
        "kernelspec": {
            "display_name": "Python 3.5", 
            "name": "python3", 
            "language": "python"
        }, 
        "language_info": {
            "mimetype": "text/x-python", 
            "nbconvert_exporter": "python", 
            "version": "3.5.5", 
            "name": "python", 
            "file_extension": ".py", 
            "pygments_lexer": "ipython3", 
            "codemirror_mode": {
                "version": 3, 
                "name": "ipython"
            }
        }
    }, 
    "nbformat": 4
}