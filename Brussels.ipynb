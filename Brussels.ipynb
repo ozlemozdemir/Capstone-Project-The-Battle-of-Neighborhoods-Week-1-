{
    "nbformat_minor": 1, 
    "cells": [
        {
            "execution_count": null, 
            "cell_type": "code", 
            "metadata": {
                "collapsed": true
            }, 
            "outputs": [], 
            "source": ""
        }, 
        {
            "execution_count": null, 
            "cell_type": "code", 
            "metadata": {}, 
            "outputs": [], 
            "source": ""
        }, 
        {
            "execution_count": null, 
            "cell_type": "code", 
            "metadata": {}, 
            "outputs": [], 
            "source": ""
        }, 
        {
            "execution_count": 61, 
            "cell_type": "code", 
            "metadata": {}, 
            "outputs": [
                {
                    "output_type": "stream", 
                    "name": "stdout", 
                    "text": "Solving environment: done\n\n# All requested packages already installed.\n\nSolving environment: done\n\n# All requested packages already installed.\n\nFolium installed\nLibraries imported.\n"
                }
            ], 
            "source": "import requests # library to handle requests\nimport pandas as pd # library for data analsysis\nimport numpy as np # library to handle data in a vectorized manner\nimport random # library for random number generation\n\n!conda install -c conda-forge geopy --yes \nfrom geopy.geocoders import Nominatim # module to convert an address into latitude and longitude values\n\n# libraries for displaying images\nfrom IPython.display import Image \nfrom IPython.core.display import HTML \n    \n# tranforming json file into a pandas dataframe library\nfrom pandas.io.json import json_normalize\n\n!conda install -c conda-forge folium=0.5.0 --yes\nimport folium # plotting library\n\nprint('Folium installed')\nprint('Libraries imported.')"
        }, 
        {
            "execution_count": 83, 
            "cell_type": "code", 
            "metadata": {}, 
            "outputs": [
                {
                    "output_type": "stream", 
                    "name": "stdout", 
                    "text": "Your credentails:\n"
                }
            ], 
            "source": "# @hidden cell\nCLIENT_ID = 'KRBOQIRZJFXTS2BGSK2CN0YYB2CGYGFA1OUN1HMDEKSZUMPP' # your Foursquare ID\nCLIENT_SECRET = 'C1V3DPD45QVRMHUKMUGBYHSRTJE4S525EVT0AUAXC3GB40YO' # your Foursquare Secret\nVERSION = '20180604'\nLIMIT = 30\nprint('Your credentails:')\n"
        }, 
        {
            "execution_count": null, 
            "cell_type": "code", 
            "metadata": {}, 
            "outputs": [], 
            "source": ""
        }, 
        {
            "execution_count": 84, 
            "cell_type": "code", 
            "metadata": {}, 
            "outputs": [
                {
                    "output_type": "stream", 
                    "name": "stdout", 
                    "text": "50.8465573 4.351697\n"
                }
            ], 
            "source": "address = '1000 Brussels'\n\ngeolocator = Nominatim(user_agent=\"foursquare_agent\")\nlocation = geolocator.geocode(address)\nlatitude = location.latitude\nlongitude = location.longitude\nprint(latitude, longitude)"
        }, 
        {
            "execution_count": null, 
            "cell_type": "code", 
            "metadata": {}, 
            "outputs": [], 
            "source": ""
        }, 
        {
            "execution_count": 85, 
            "cell_type": "code", 
            "metadata": {}, 
            "outputs": [
                {
                    "output_type": "stream", 
                    "name": "stdout", 
                    "text": "italian .... OK!\n"
                }
            ], 
            "source": "search_query = 'italian'\nradius = 1000\nprint(search_query + ' .... OK!')"
        }, 
        {
            "execution_count": 86, 
            "cell_type": "code", 
            "metadata": {}, 
            "outputs": [
                {
                    "execution_count": 86, 
                    "metadata": {}, 
                    "data": {
                        "text/plain": "'https://api.foursquare.com/v2/venues/search?client_id=KRBOQIRZJFXTS2BGSK2CN0YYB2CGYGFA1OUN1HMDEKSZUMPP&client_secret=C1V3DPD45QVRMHUKMUGBYHSRTJE4S525EVT0AUAXC3GB40YO&ll=50.8465573,4.351697&v=20180604&query=italian&radius=1000&limit=30'"
                    }, 
                    "output_type": "execute_result"
                }
            ], 
            "source": "url = 'https://api.foursquare.com/v2/venues/search?client_id={}&client_secret={}&ll={},{}&v={}&query={}&radius={}&limit={}'.format(CLIENT_ID, CLIENT_SECRET, latitude, longitude, VERSION, search_query, radius, LIMIT)\nurl\n"
        }, 
        {
            "execution_count": null, 
            "cell_type": "code", 
            "metadata": {}, 
            "outputs": [], 
            "source": ""
        }, 
        {
            "execution_count": 87, 
            "cell_type": "code", 
            "metadata": {}, 
            "outputs": [
                {
                    "execution_count": 87, 
                    "metadata": {}, 
                    "data": {
                        "text/plain": "{'meta': {'code': 200, 'requestId': '5ce9470d351e3d128901f29d'},\n 'response': {'venues': [{'categories': [{'icon': {'prefix': 'https://ss3.4sqi.net/img/categories_v2/shops/apparel_boutique_',\n       'suffix': '.png'},\n      'id': '4bf58dd8d48988d104951735',\n      'name': 'Boutique',\n      'pluralName': 'Boutiques',\n      'primary': True,\n      'shortName': 'Boutique'}],\n    'hasPerk': False,\n    'id': '54dcae32498e197039753826',\n    'location': {'address': 'Rue des Teinturiers 15',\n     'cc': 'BE',\n     'city': 'Brussel',\n     'country': 'Belgi\u00eb',\n     'distance': 155,\n     'formattedAddress': ['Rue des Teinturiers 15', '1000 Brussel', 'Belgi\u00eb'],\n     'labeledLatLngs': [{'label': 'display',\n       'lat': 50.84568038587185,\n       'lng': 4.3499765390879475}],\n     'lat': 50.84568038587185,\n     'lng': 4.3499765390879475,\n     'postalCode': '1000',\n     'state': 'Brussels Hoofdstedelijk Gewest'},\n    'name': 'KIKIAMO Italian Style',\n    'referralId': 'v-1558791949'},\n   {'categories': [{'icon': {'prefix': 'https://ss3.4sqi.net/img/categories_v2/food/diner_',\n       'suffix': '.png'},\n      'id': '4bf58dd8d48988d147941735',\n      'name': 'Diner',\n      'pluralName': 'Diners',\n      'primary': True,\n      'shortName': 'Diner'}],\n    'hasPerk': False,\n    'id': '5198e914498eccd5bca6b268',\n    'location': {'cc': 'BE',\n     'country': 'Belgi\u00eb',\n     'distance': 287,\n     'formattedAddress': ['Belgi\u00eb'],\n     'labeledLatLngs': [{'label': 'display',\n       'lat': 50.847684,\n       'lng': 4.348022}],\n     'lat': 50.847684,\n     'lng': 4.348022},\n    'name': 'Italiano Vero',\n    'referralId': 'v-1558791949'},\n   {'categories': [{'icon': {'prefix': 'https://ss3.4sqi.net/img/categories_v2/food/italian_',\n       'suffix': '.png'},\n      'id': '4bf58dd8d48988d110941735',\n      'name': 'Italian Restaurant',\n      'pluralName': 'Italian Restaurants',\n      'primary': True,\n      'shortName': 'Italian'}],\n    'hasPerk': False,\n    'id': '4fce634ae4b083992e3a61ae',\n    'location': {'address': '28 Greepstraat',\n     'cc': 'BE',\n     'city': 'Brussel',\n     'country': 'Belgi\u00eb',\n     'distance': 224,\n     'formattedAddress': ['28 Greepstraat', 'Brussel', 'Belgi\u00eb'],\n     'labeledLatLngs': [{'label': 'display',\n       'lat': 50.84835918734941,\n       'lng': 4.353120921892816}],\n     'lat': 50.84835918734941,\n     'lng': 4.353120921892816,\n     'state': 'Brussels Hoofdstedelijk Gewest'},\n    'name': \"L'italiano\",\n    'referralId': 'v-1558791949'},\n   {'categories': [{'icon': {'prefix': 'https://ss3.4sqi.net/img/categories_v2/food/deli_',\n       'suffix': '.png'},\n      'id': '4bf58dd8d48988d1c5941735',\n      'name': 'Sandwich Place',\n      'pluralName': 'Sandwich Places',\n      'primary': True,\n      'shortName': 'Sandwiches'}],\n    'hasPerk': False,\n    'id': '4b45e01bf964a520821126e3',\n    'location': {'address': \"Nijverheidsstraat 26 Rue de l'Industrie\",\n     'cc': 'BE',\n     'city': 'Brussel',\n     'country': 'Belgi\u00eb',\n     'distance': 1363,\n     'formattedAddress': [\"Nijverheidsstraat 26 Rue de l'Industrie\",\n      '1000 Brussel',\n      'Belgi\u00eb'],\n     'labeledLatLngs': [{'label': 'display',\n       'lat': 50.84274637782242,\n       'lng': 4.370136272787752}],\n     'lat': 50.84274637782242,\n     'lng': 4.370136272787752,\n     'neighborhood': 'European Quarter',\n     'postalCode': '1000',\n     'state': 'Brussels Hoofdstedelijk Gewest'},\n    'name': 'Italiano n\u00b01 Paninoteca',\n    'referralId': 'v-1558791949'}]}}"
                    }, 
                    "output_type": "execute_result"
                }
            ], 
            "source": "results = requests.get(url).json()\nresults"
        }, 
        {
            "execution_count": null, 
            "cell_type": "code", 
            "metadata": {}, 
            "outputs": [], 
            "source": ""
        }, 
        {
            "execution_count": null, 
            "cell_type": "code", 
            "metadata": {}, 
            "outputs": [], 
            "source": ""
        }, 
        {
            "execution_count": 88, 
            "cell_type": "code", 
            "metadata": {}, 
            "outputs": [
                {
                    "execution_count": 88, 
                    "metadata": {}, 
                    "data": {
                        "text/html": "<div>\n<style scoped>\n    .dataframe tbody tr th:only-of-type {\n        vertical-align: middle;\n    }\n\n    .dataframe tbody tr th {\n        vertical-align: top;\n    }\n\n    .dataframe thead th {\n        text-align: right;\n    }\n</style>\n<table border=\"1\" class=\"dataframe\">\n  <thead>\n    <tr style=\"text-align: right;\">\n      <th></th>\n      <th>categories</th>\n      <th>hasPerk</th>\n      <th>id</th>\n      <th>location.address</th>\n      <th>location.cc</th>\n      <th>location.city</th>\n      <th>location.country</th>\n      <th>location.distance</th>\n      <th>location.formattedAddress</th>\n      <th>location.labeledLatLngs</th>\n      <th>location.lat</th>\n      <th>location.lng</th>\n      <th>location.neighborhood</th>\n      <th>location.postalCode</th>\n      <th>location.state</th>\n      <th>name</th>\n      <th>referralId</th>\n    </tr>\n  </thead>\n  <tbody>\n    <tr>\n      <th>0</th>\n      <td>[{'primary': True, 'shortName': 'Boutique', 'n...</td>\n      <td>False</td>\n      <td>54dcae32498e197039753826</td>\n      <td>Rue des Teinturiers 15</td>\n      <td>BE</td>\n      <td>Brussel</td>\n      <td>Belgi\u00eb</td>\n      <td>155</td>\n      <td>[Rue des Teinturiers 15, 1000 Brussel, Belgi\u00eb]</td>\n      <td>[{'lat': 50.84568038587185, 'lng': 4.349976539...</td>\n      <td>50.845680</td>\n      <td>4.349977</td>\n      <td>NaN</td>\n      <td>1000</td>\n      <td>Brussels Hoofdstedelijk Gewest</td>\n      <td>KIKIAMO Italian Style</td>\n      <td>v-1558791949</td>\n    </tr>\n    <tr>\n      <th>1</th>\n      <td>[{'primary': True, 'shortName': 'Diner', 'name...</td>\n      <td>False</td>\n      <td>5198e914498eccd5bca6b268</td>\n      <td>NaN</td>\n      <td>BE</td>\n      <td>NaN</td>\n      <td>Belgi\u00eb</td>\n      <td>287</td>\n      <td>[Belgi\u00eb]</td>\n      <td>[{'lat': 50.847684, 'lng': 4.348022, 'label': ...</td>\n      <td>50.847684</td>\n      <td>4.348022</td>\n      <td>NaN</td>\n      <td>NaN</td>\n      <td>NaN</td>\n      <td>Italiano Vero</td>\n      <td>v-1558791949</td>\n    </tr>\n    <tr>\n      <th>2</th>\n      <td>[{'primary': True, 'shortName': 'Italian', 'na...</td>\n      <td>False</td>\n      <td>4fce634ae4b083992e3a61ae</td>\n      <td>28 Greepstraat</td>\n      <td>BE</td>\n      <td>Brussel</td>\n      <td>Belgi\u00eb</td>\n      <td>224</td>\n      <td>[28 Greepstraat, Brussel, Belgi\u00eb]</td>\n      <td>[{'lat': 50.84835918734941, 'lng': 4.353120921...</td>\n      <td>50.848359</td>\n      <td>4.353121</td>\n      <td>NaN</td>\n      <td>NaN</td>\n      <td>Brussels Hoofdstedelijk Gewest</td>\n      <td>L'italiano</td>\n      <td>v-1558791949</td>\n    </tr>\n    <tr>\n      <th>3</th>\n      <td>[{'primary': True, 'shortName': 'Sandwiches', ...</td>\n      <td>False</td>\n      <td>4b45e01bf964a520821126e3</td>\n      <td>Nijverheidsstraat 26 Rue de l'Industrie</td>\n      <td>BE</td>\n      <td>Brussel</td>\n      <td>Belgi\u00eb</td>\n      <td>1363</td>\n      <td>[Nijverheidsstraat 26 Rue de l'Industrie, 1000...</td>\n      <td>[{'lat': 50.84274637782242, 'lng': 4.370136272...</td>\n      <td>50.842746</td>\n      <td>4.370136</td>\n      <td>European Quarter</td>\n      <td>1000</td>\n      <td>Brussels Hoofdstedelijk Gewest</td>\n      <td>Italiano n\u00b01 Paninoteca</td>\n      <td>v-1558791949</td>\n    </tr>\n  </tbody>\n</table>\n</div>", 
                        "text/plain": "                                          categories  hasPerk  \\\n0  [{'primary': True, 'shortName': 'Boutique', 'n...    False   \n1  [{'primary': True, 'shortName': 'Diner', 'name...    False   \n2  [{'primary': True, 'shortName': 'Italian', 'na...    False   \n3  [{'primary': True, 'shortName': 'Sandwiches', ...    False   \n\n                         id                         location.address  \\\n0  54dcae32498e197039753826                   Rue des Teinturiers 15   \n1  5198e914498eccd5bca6b268                                      NaN   \n2  4fce634ae4b083992e3a61ae                           28 Greepstraat   \n3  4b45e01bf964a520821126e3  Nijverheidsstraat 26 Rue de l'Industrie   \n\n  location.cc location.city location.country  location.distance  \\\n0          BE       Brussel           Belgi\u00eb                155   \n1          BE           NaN           Belgi\u00eb                287   \n2          BE       Brussel           Belgi\u00eb                224   \n3          BE       Brussel           Belgi\u00eb               1363   \n\n                           location.formattedAddress  \\\n0     [Rue des Teinturiers 15, 1000 Brussel, Belgi\u00eb]   \n1                                           [Belgi\u00eb]   \n2                  [28 Greepstraat, Brussel, Belgi\u00eb]   \n3  [Nijverheidsstraat 26 Rue de l'Industrie, 1000...   \n\n                             location.labeledLatLngs  location.lat  \\\n0  [{'lat': 50.84568038587185, 'lng': 4.349976539...     50.845680   \n1  [{'lat': 50.847684, 'lng': 4.348022, 'label': ...     50.847684   \n2  [{'lat': 50.84835918734941, 'lng': 4.353120921...     50.848359   \n3  [{'lat': 50.84274637782242, 'lng': 4.370136272...     50.842746   \n\n   location.lng location.neighborhood location.postalCode  \\\n0      4.349977                   NaN                1000   \n1      4.348022                   NaN                 NaN   \n2      4.353121                   NaN                 NaN   \n3      4.370136      European Quarter                1000   \n\n                   location.state                     name    referralId  \n0  Brussels Hoofdstedelijk Gewest    KIKIAMO Italian Style  v-1558791949  \n1                             NaN            Italiano Vero  v-1558791949  \n2  Brussels Hoofdstedelijk Gewest               L'italiano  v-1558791949  \n3  Brussels Hoofdstedelijk Gewest  Italiano n\u00b01 Paninoteca  v-1558791949  "
                    }, 
                    "output_type": "execute_result"
                }
            ], 
            "source": "# assign relevant part of JSON to venues\nvenues = results['response']['venues']\n\n# tranform venues into a dataframe\ndataframe = json_normalize(venues)\ndataframe.head()"
        }, 
        {
            "execution_count": null, 
            "cell_type": "code", 
            "metadata": {}, 
            "outputs": [], 
            "source": ""
        }, 
        {
            "execution_count": null, 
            "cell_type": "code", 
            "metadata": {}, 
            "outputs": [], 
            "source": ""
        }, 
        {
            "execution_count": 89, 
            "cell_type": "code", 
            "metadata": {}, 
            "outputs": [
                {
                    "execution_count": 89, 
                    "metadata": {}, 
                    "data": {
                        "text/html": "<div>\n<style scoped>\n    .dataframe tbody tr th:only-of-type {\n        vertical-align: middle;\n    }\n\n    .dataframe tbody tr th {\n        vertical-align: top;\n    }\n\n    .dataframe thead th {\n        text-align: right;\n    }\n</style>\n<table border=\"1\" class=\"dataframe\">\n  <thead>\n    <tr style=\"text-align: right;\">\n      <th></th>\n      <th>name</th>\n      <th>categories</th>\n      <th>address</th>\n      <th>cc</th>\n      <th>city</th>\n      <th>country</th>\n      <th>distance</th>\n      <th>formattedAddress</th>\n      <th>labeledLatLngs</th>\n      <th>lat</th>\n      <th>lng</th>\n      <th>neighborhood</th>\n      <th>postalCode</th>\n      <th>state</th>\n      <th>id</th>\n    </tr>\n  </thead>\n  <tbody>\n    <tr>\n      <th>0</th>\n      <td>KIKIAMO Italian Style</td>\n      <td>Boutique</td>\n      <td>Rue des Teinturiers 15</td>\n      <td>BE</td>\n      <td>Brussel</td>\n      <td>Belgi\u00eb</td>\n      <td>155</td>\n      <td>[Rue des Teinturiers 15, 1000 Brussel, Belgi\u00eb]</td>\n      <td>[{'lat': 50.84568038587185, 'lng': 4.349976539...</td>\n      <td>50.845680</td>\n      <td>4.349977</td>\n      <td>NaN</td>\n      <td>1000</td>\n      <td>Brussels Hoofdstedelijk Gewest</td>\n      <td>54dcae32498e197039753826</td>\n    </tr>\n    <tr>\n      <th>1</th>\n      <td>Italiano Vero</td>\n      <td>Diner</td>\n      <td>NaN</td>\n      <td>BE</td>\n      <td>NaN</td>\n      <td>Belgi\u00eb</td>\n      <td>287</td>\n      <td>[Belgi\u00eb]</td>\n      <td>[{'lat': 50.847684, 'lng': 4.348022, 'label': ...</td>\n      <td>50.847684</td>\n      <td>4.348022</td>\n      <td>NaN</td>\n      <td>NaN</td>\n      <td>NaN</td>\n      <td>5198e914498eccd5bca6b268</td>\n    </tr>\n    <tr>\n      <th>2</th>\n      <td>L'italiano</td>\n      <td>Italian Restaurant</td>\n      <td>28 Greepstraat</td>\n      <td>BE</td>\n      <td>Brussel</td>\n      <td>Belgi\u00eb</td>\n      <td>224</td>\n      <td>[28 Greepstraat, Brussel, Belgi\u00eb]</td>\n      <td>[{'lat': 50.84835918734941, 'lng': 4.353120921...</td>\n      <td>50.848359</td>\n      <td>4.353121</td>\n      <td>NaN</td>\n      <td>NaN</td>\n      <td>Brussels Hoofdstedelijk Gewest</td>\n      <td>4fce634ae4b083992e3a61ae</td>\n    </tr>\n    <tr>\n      <th>3</th>\n      <td>Italiano n\u00b01 Paninoteca</td>\n      <td>Sandwich Place</td>\n      <td>Nijverheidsstraat 26 Rue de l'Industrie</td>\n      <td>BE</td>\n      <td>Brussel</td>\n      <td>Belgi\u00eb</td>\n      <td>1363</td>\n      <td>[Nijverheidsstraat 26 Rue de l'Industrie, 1000...</td>\n      <td>[{'lat': 50.84274637782242, 'lng': 4.370136272...</td>\n      <td>50.842746</td>\n      <td>4.370136</td>\n      <td>European Quarter</td>\n      <td>1000</td>\n      <td>Brussels Hoofdstedelijk Gewest</td>\n      <td>4b45e01bf964a520821126e3</td>\n    </tr>\n  </tbody>\n</table>\n</div>", 
                        "text/plain": "                      name          categories  \\\n0    KIKIAMO Italian Style            Boutique   \n1            Italiano Vero               Diner   \n2               L'italiano  Italian Restaurant   \n3  Italiano n\u00b01 Paninoteca      Sandwich Place   \n\n                                   address  cc     city country  distance  \\\n0                   Rue des Teinturiers 15  BE  Brussel  Belgi\u00eb       155   \n1                                      NaN  BE      NaN  Belgi\u00eb       287   \n2                           28 Greepstraat  BE  Brussel  Belgi\u00eb       224   \n3  Nijverheidsstraat 26 Rue de l'Industrie  BE  Brussel  Belgi\u00eb      1363   \n\n                                    formattedAddress  \\\n0     [Rue des Teinturiers 15, 1000 Brussel, Belgi\u00eb]   \n1                                           [Belgi\u00eb]   \n2                  [28 Greepstraat, Brussel, Belgi\u00eb]   \n3  [Nijverheidsstraat 26 Rue de l'Industrie, 1000...   \n\n                                      labeledLatLngs        lat       lng  \\\n0  [{'lat': 50.84568038587185, 'lng': 4.349976539...  50.845680  4.349977   \n1  [{'lat': 50.847684, 'lng': 4.348022, 'label': ...  50.847684  4.348022   \n2  [{'lat': 50.84835918734941, 'lng': 4.353120921...  50.848359  4.353121   \n3  [{'lat': 50.84274637782242, 'lng': 4.370136272...  50.842746  4.370136   \n\n       neighborhood postalCode                           state  \\\n0               NaN       1000  Brussels Hoofdstedelijk Gewest   \n1               NaN        NaN                             NaN   \n2               NaN        NaN  Brussels Hoofdstedelijk Gewest   \n3  European Quarter       1000  Brussels Hoofdstedelijk Gewest   \n\n                         id  \n0  54dcae32498e197039753826  \n1  5198e914498eccd5bca6b268  \n2  4fce634ae4b083992e3a61ae  \n3  4b45e01bf964a520821126e3  "
                    }, 
                    "output_type": "execute_result"
                }
            ], 
            "source": "# keep only columns that include venue name, and anything that is associated with location\nfiltered_columns = ['name', 'categories'] + [col for col in dataframe.columns if col.startswith('location.')] + ['id']\ndataframe_filtered = dataframe.loc[:, filtered_columns]\n\n# function that extracts the category of the venue\ndef get_category_type(row):\n    try:\n        categories_list = row['categories']\n    except:\n        categories_list = row['venue.categories']\n        \n    if len(categories_list) == 0:\n        return None\n    else:\n        return categories_list[0]['name']\n\n# filter the category for each row\ndataframe_filtered['categories'] = dataframe_filtered.apply(get_category_type, axis=1)\n\n# clean column names by keeping only last term\ndataframe_filtered.columns = [column.split('.')[-1] for column in dataframe_filtered.columns]\n\ndataframe_filtered"
        }, 
        {
            "execution_count": 90, 
            "cell_type": "code", 
            "metadata": {}, 
            "outputs": [
                {
                    "execution_count": 90, 
                    "metadata": {}, 
                    "data": {
                        "text/plain": "0      KIKIAMO Italian Style\n1              Italiano Vero\n2                 L'italiano\n3    Italiano n\u00b01 Paninoteca\nName: name, dtype: object"
                    }, 
                    "output_type": "execute_result"
                }
            ], 
            "source": "dataframe_filtered.name"
        }, 
        {
            "execution_count": null, 
            "cell_type": "code", 
            "metadata": {}, 
            "outputs": [], 
            "source": ""
        }, 
        {
            "execution_count": null, 
            "cell_type": "code", 
            "metadata": {}, 
            "outputs": [], 
            "source": ""
        }, 
        {
            "execution_count": 91, 
            "cell_type": "code", 
            "metadata": {}, 
            "outputs": [
                {
                    "execution_count": 91, 
                    "metadata": {}, 
                    "data": {
                        "text/html": "<div style=\"width:100%;\"><div style=\"position:relative;width:100%;height:0;padding-bottom:60%;\"><iframe src=\"data:text/html;charset=utf-8;base64,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\" style=\"position:absolute;width:100%;height:100%;left:0;top:0;border:none !important;\" allowfullscreen webkitallowfullscreen mozallowfullscreen></iframe></div></div>", 
                        "text/plain": "<folium.folium.Map at 0x7febc17cf128>"
                    }, 
                    "output_type": "execute_result"
                }
            ], 
            "source": "venues_map = folium.Map(location=[latitude, longitude], zoom_start=13) # generate map centred around the Conrad Hotel\n\n# add a red circle marker to represent the Conrad Hotel\nfolium.features.CircleMarker(\n    [latitude, longitude],\n    radius=10,\n    color='red',\n    popup='Grand Place',\n    fill = True,\n    fill_color = 'red',\n    fill_opacity = 0.6\n).add_to(venues_map)\n\n# add the Italian restaurants as blue circle markers\nfor lat, lng, label in zip(dataframe_filtered.lat, dataframe_filtered.lng, dataframe_filtered.categories):\n    folium.features.CircleMarker(\n        [lat, lng],\n        radius=5,\n        color='blue',\n        popup=label,\n        fill = True,\n        fill_color='blue',\n        fill_opacity=0.6\n    ).add_to(venues_map)\n\n# display map\nvenues_map"
        }, 
        {
            "execution_count": null, 
            "cell_type": "code", 
            "metadata": {}, 
            "outputs": [], 
            "source": ""
        }, 
        {
            "execution_count": null, 
            "cell_type": "code", 
            "metadata": {}, 
            "outputs": [], 
            "source": ""
        }, 
        {
            "execution_count": 92, 
            "cell_type": "code", 
            "metadata": {}, 
            "outputs": [
                {
                    "execution_count": 92, 
                    "metadata": {}, 
                    "data": {
                        "text/plain": "'https://api.foursquare.com/v2/venues/5198e914498eccd5bca6b268?client_id=KRBOQIRZJFXTS2BGSK2CN0YYB2CGYGFA1OUN1HMDEKSZUMPP&client_secret=C1V3DPD45QVRMHUKMUGBYHSRTJE4S525EVT0AUAXC3GB40YO&v=20180604'"
                    }, 
                    "output_type": "execute_result"
                }
            ], 
            "source": "venue_id = '5198e914498eccd5bca6b268' # ID of  Italian Pizza Bar\nurl = 'https://api.foursquare.com/v2/venues/{}?client_id={}&client_secret={}&v={}'.format(venue_id, CLIENT_ID, CLIENT_SECRET, VERSION)\nurl"
        }, 
        {
            "execution_count": 93, 
            "cell_type": "code", 
            "metadata": {}, 
            "outputs": [
                {
                    "output_type": "stream", 
                    "name": "stdout", 
                    "text": "dict_keys(['likes', 'hereNow', 'canonicalUrl', 'name', 'beenHere', 'categories', 'tips', 'timeZone', 'allowMenuUrlEdit', 'stats', 'createdAt', 'contact', 'specials', 'price', 'location', 'ok', 'dislike', 'listed', 'attributes', 'inbox', 'reasons', 'shortUrl', 'id', 'pageUpdates', 'photos', 'verified'])\n"
                }, 
                {
                    "execution_count": 93, 
                    "metadata": {}, 
                    "data": {
                        "text/plain": "{'allowMenuUrlEdit': True,\n 'attributes': {'groups': [{'count': 1,\n    'items': [{'displayName': 'Price', 'displayValue': '\u20ac', 'priceTier': 1}],\n    'name': 'Price',\n    'summary': '\u20ac',\n    'type': 'price'}]},\n 'beenHere': {'count': 0,\n  'lastCheckinExpiredAt': 0,\n  'marked': False,\n  'unconfirmedCount': 0},\n 'canonicalUrl': 'https://foursquare.com/v/italiano-vero/5198e914498eccd5bca6b268',\n 'categories': [{'icon': {'prefix': 'https://ss3.4sqi.net/img/categories_v2/food/diner_',\n    'suffix': '.png'},\n   'id': '4bf58dd8d48988d147941735',\n   'name': 'Diner',\n   'pluralName': 'Diners',\n   'primary': True,\n   'shortName': 'Diner'}],\n 'contact': {},\n 'createdAt': 1368975636,\n 'dislike': False,\n 'hereNow': {'count': 0, 'groups': [], 'summary': 'Nobody here'},\n 'id': '5198e914498eccd5bca6b268',\n 'inbox': {'count': 0, 'items': []},\n 'likes': {'count': 0, 'groups': []},\n 'listed': {'count': 0,\n  'groups': [{'count': 0,\n    'items': [],\n    'name': 'Lists from other people',\n    'type': 'others'}]},\n 'location': {'cc': 'BE',\n  'country': 'Belgi\u00eb',\n  'formattedAddress': ['Belgi\u00eb'],\n  'labeledLatLngs': [{'label': 'display', 'lat': 50.847684, 'lng': 4.348022}],\n  'lat': 50.847684,\n  'lng': 4.348022},\n 'name': 'Italiano Vero',\n 'ok': False,\n 'pageUpdates': {'count': 0, 'items': []},\n 'photos': {'count': 0,\n  'groups': [{'count': 0,\n    'items': [],\n    'name': \"Friends' check-in photos\",\n    'type': 'checkin'}],\n  'summary': 'No photos'},\n 'price': {'currency': '\u20ac', 'message': 'Cheap', 'tier': 1},\n 'reasons': {'count': 0, 'items': []},\n 'shortUrl': 'http://4sq.com/15YO4UR',\n 'specials': {'count': 0, 'items': []},\n 'stats': {'tipCount': 0},\n 'timeZone': 'Europe/Brussels',\n 'tips': {'count': 0,\n  'groups': [{'count': 0, 'items': [], 'name': 'All tips', 'type': 'others'}]},\n 'verified': False}"
                    }, 
                    "output_type": "execute_result"
                }
            ], 
            "source": "result = requests.get(url).json()\nprint(result['response']['venue'].keys())\nresult['response']['venue']"
        }, 
        {
            "execution_count": null, 
            "cell_type": "code", 
            "metadata": {}, 
            "outputs": [], 
            "source": ""
        }, 
        {
            "execution_count": null, 
            "cell_type": "code", 
            "metadata": {}, 
            "outputs": [], 
            "source": ""
        }, 
        {
            "execution_count": 94, 
            "cell_type": "code", 
            "metadata": {}, 
            "outputs": [
                {
                    "output_type": "stream", 
                    "name": "stdout", 
                    "text": "This venue has not been rated yet.\n"
                }
            ], 
            "source": "try:\n    print(result['response']['venue']['rating'])\nexcept:\n    print('This venue has not been rated yet.')"
        }, 
        {
            "execution_count": 95, 
            "cell_type": "code", 
            "metadata": {}, 
            "outputs": [
                {
                    "execution_count": 95, 
                    "metadata": {}, 
                    "data": {
                        "text/plain": "'https://api.foursquare.com/v2/venues/4fce634ae4b083992e3a61ae?client_id=KRBOQIRZJFXTS2BGSK2CN0YYB2CGYGFA1OUN1HMDEKSZUMPP&client_secret=C1V3DPD45QVRMHUKMUGBYHSRTJE4S525EVT0AUAXC3GB40YO&v=20180604'"
                    }, 
                    "output_type": "execute_result"
                }
            ], 
            "source": "venue_id = '4fce634ae4b083992e3a61ae' # ID of  Italian Pizza Bar\nurl = 'https://api.foursquare.com/v2/venues/{}?client_id={}&client_secret={}&v={}'.format(venue_id, CLIENT_ID, CLIENT_SECRET, VERSION)\nurl"
        }, 
        {
            "execution_count": 96, 
            "cell_type": "code", 
            "metadata": {}, 
            "outputs": [
                {
                    "output_type": "stream", 
                    "name": "stdout", 
                    "text": "dict_keys(['likes', 'hereNow', 'canonicalUrl', 'name', 'beenHere', 'categories', 'bestPhoto', 'tips', 'timeZone', 'allowMenuUrlEdit', 'colors', 'stats', 'createdAt', 'contact', 'specials', 'price', 'location', 'ok', 'dislike', 'listed', 'attributes', 'inbox', 'reasons', 'shortUrl', 'id', 'pageUpdates', 'photos', 'verified'])\n"
                }, 
                {
                    "execution_count": 96, 
                    "metadata": {}, 
                    "data": {
                        "text/plain": "{'allowMenuUrlEdit': True,\n 'attributes': {'groups': [{'count': 1,\n    'items': [{'displayName': 'Price', 'displayValue': '\u20ac\u20ac', 'priceTier': 2}],\n    'name': 'Price',\n    'summary': '\u20ac\u20ac',\n    'type': 'price'},\n   {'count': 5,\n    'items': [{'displayName': 'Credit Cards', 'displayValue': 'Yes'}],\n    'name': 'Credit Cards',\n    'summary': 'Credit Cards',\n    'type': 'payments'}]},\n 'beenHere': {'count': 0,\n  'lastCheckinExpiredAt': 0,\n  'marked': False,\n  'unconfirmedCount': 0},\n 'bestPhoto': {'createdAt': 1463676979,\n  'height': 540,\n  'id': '573df033498e3b7674000bce',\n  'prefix': 'https://fastly.4sqi.net/img/general/',\n  'source': {'name': 'Swarm for Android', 'url': 'https://www.swarmapp.com'},\n  'suffix': '/121334459_JeqotJgOvyqm9roXqzzboURNalIQo7nHQHMB8lel2F8.jpg',\n  'visibility': 'public',\n  'width': 960},\n 'canonicalUrl': 'https://foursquare.com/v/litaliano/4fce634ae4b083992e3a61ae',\n 'categories': [{'icon': {'prefix': 'https://ss3.4sqi.net/img/categories_v2/food/italian_',\n    'suffix': '.png'},\n   'id': '4bf58dd8d48988d110941735',\n   'name': 'Italian Restaurant',\n   'pluralName': 'Italian Restaurants',\n   'primary': True,\n   'shortName': 'Italian'}],\n 'colors': {'algoVersion': 3,\n  'highlightColor': {'photoId': '573df033498e3b7674000bce',\n   'value': -14671840},\n  'highlightTextColor': {'photoId': '573df033498e3b7674000bce', 'value': -1}},\n 'contact': {},\n 'createdAt': 1338925898,\n 'dislike': False,\n 'hereNow': {'count': 0, 'groups': [], 'summary': 'Nobody here'},\n 'id': '4fce634ae4b083992e3a61ae',\n 'inbox': {'count': 0, 'items': []},\n 'likes': {'count': 0, 'groups': []},\n 'listed': {'count': 0,\n  'groups': [{'count': 0,\n    'items': [],\n    'name': 'Lists from other people',\n    'type': 'others'}]},\n 'location': {'address': '28 Greepstraat',\n  'cc': 'BE',\n  'city': 'Brussel',\n  'country': 'Belgi\u00eb',\n  'formattedAddress': ['28 Greepstraat', 'Brussel', 'Belgi\u00eb'],\n  'labeledLatLngs': [{'label': 'display',\n    'lat': 50.84835918734941,\n    'lng': 4.353120921892816}],\n  'lat': 50.84835918734941,\n  'lng': 4.353120921892816,\n  'state': 'Brussels Hoofdstedelijk Gewest'},\n 'name': \"L'italiano\",\n 'ok': False,\n 'pageUpdates': {'count': 0, 'items': []},\n 'photos': {'count': 1,\n  'groups': [{'count': 0,\n    'items': [],\n    'name': \"Friends' check-in photos\",\n    'type': 'checkin'},\n   {'count': 1,\n    'items': [{'createdAt': 1463676979,\n      'height': 540,\n      'id': '573df033498e3b7674000bce',\n      'prefix': 'https://fastly.4sqi.net/img/general/',\n      'source': {'name': 'Swarm for Android',\n       'url': 'https://www.swarmapp.com'},\n      'suffix': '/121334459_JeqotJgOvyqm9roXqzzboURNalIQo7nHQHMB8lel2F8.jpg',\n      'user': {'firstName': 'Numan',\n       'gender': 'male',\n       'id': '121334459',\n       'lastName': 'Golukcu',\n       'photo': {'prefix': 'https://fastly.4sqi.net/img/user/',\n        'suffix': '/121334459-PDJL3QK3T2ZUPKGC.jpg'}},\n      'visibility': 'public',\n      'width': 960}],\n    'name': 'Venue photos',\n    'type': 'venue'}],\n  'summary': '1 photo'},\n 'price': {'currency': '\u20ac', 'message': 'Moderate', 'tier': 2},\n 'reasons': {'count': 0, 'items': []},\n 'shortUrl': 'http://4sq.com/Kf5HRz',\n 'specials': {'count': 0, 'items': []},\n 'stats': {'tipCount': 0},\n 'timeZone': 'Europe/Brussels',\n 'tips': {'count': 0,\n  'groups': [{'count': 0, 'items': [], 'name': 'All tips', 'type': 'others'}]},\n 'verified': False}"
                    }, 
                    "output_type": "execute_result"
                }
            ], 
            "source": "result = requests.get(url).json()\nprint(result['response']['venue'].keys())\nresult['response']['venue']"
        }, 
        {
            "execution_count": 97, 
            "cell_type": "code", 
            "metadata": {}, 
            "outputs": [
                {
                    "output_type": "stream", 
                    "name": "stdout", 
                    "text": "This venue has not been rated yet.\n"
                }
            ], 
            "source": "try:\n    print(result['response']['venue']['rating'])\nexcept:\n    print('This venue has not been rated yet.')"
        }, 
        {
            "execution_count": null, 
            "cell_type": "code", 
            "metadata": {}, 
            "outputs": [], 
            "source": ""
        }
    ], 
    "metadata": {
        "kernelspec": {
            "display_name": "Python 3.5", 
            "name": "python3", 
            "language": "python"
        }, 
        "language_info": {
            "mimetype": "text/x-python", 
            "nbconvert_exporter": "python", 
            "version": "3.5.5", 
            "name": "python", 
            "file_extension": ".py", 
            "pygments_lexer": "ipython3", 
            "codemirror_mode": {
                "version": 3, 
                "name": "ipython"
            }
        }
    }, 
    "nbformat": 4
}